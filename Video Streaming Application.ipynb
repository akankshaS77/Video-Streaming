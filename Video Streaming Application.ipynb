{
 "cells": [
  {
   "cell_type": "markdown",
   "metadata": {},
   "source": [
    "# Task 3 : Server Side Video Streaming"
   ]
  },
  {
   "cell_type": "code",
   "execution_count": null,
   "metadata": {},
   "outputs": [],
   "source": [
    "# import all required library\n",
    "\n",
    "import numpy as np\n",
    "import cv2\n",
    "import socket\n",
    "import pickle\n",
    "import struct"
   ]
  },
  {
   "cell_type": "code",
   "execution_count": null,
   "metadata": {},
   "outputs": [],
   "source": [
    "# binding of socket and starting connection\n",
    "\n",
    "s = socket.socket(socket.AF_INET,socket.SOCK_DGRAM)\n",
    "ip=input(\"\\n\\t\\tEnter Server ID : \")  # enter server ip to the prompt \n",
    "port=1234\n",
    "bind=s.bind((ip,port))\n",
    "s.connect((ip,port))\n",
    "s.listen(5)"
   ]
  },
  {
   "cell_type": "code",
   "execution_count": null,
   "metadata": {},
   "outputs": [],
   "source": [
    "# Strating Live Streaming \n",
    "\n",
    "while True:\n",
    "    conc, addr = s.accept()\n",
    "    if conc:\n",
    "        video=cv2.VideoCapture(0)\n",
    "        while(video.isOpened()):\n",
    "            ret, photo = video.read()\n",
    "            deser=pickle.dumps(photo)\n",
    "            var=struct.pack(\"Q\",len(deser))+deser\n",
    "            conc.sendall(var)\n",
    "            cv2.imshow(\"Server: Presenter Side\", photo)\n",
    "            key=cv2.waitKey(1) & 0xFF\n",
    "            if cv2.waitKey(1) == 27:\n",
    "                cv2.destroyAllWindows()\n",
    "                conc.close()\n",
    "                break\n",
    "video.release()                \n",
    "                "
   ]
  }
 ],
 "metadata": {
  "kernelspec": {
   "display_name": "Python 3",
   "language": "python",
   "name": "python3"
  },
  "language_info": {
   "codemirror_mode": {
    "name": "ipython",
    "version": 3
   },
   "file_extension": ".py",
   "mimetype": "text/x-python",
   "name": "python",
   "nbconvert_exporter": "python",
   "pygments_lexer": "ipython3",
   "version": "3.8.3"
  }
 },
 "nbformat": 4,
 "nbformat_minor": 4
}
